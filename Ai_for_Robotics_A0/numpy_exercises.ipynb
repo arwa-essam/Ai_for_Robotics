{
  "cells": [
    {
      "cell_type": "markdown",
      "metadata": {
        "id": "WRXVg_PP3tBC"
      },
      "source": [
        "# NumPy Practice\n",
        "\n",
        "This notebook offers a set of exercises for different tasks with NumPy.\n",
        "\n",
        "It should be noted there may be more than one different way to answer a question or complete an exercise.\n",
        "\n",
        "Different tasks will be detailed by comments or text.\n",
        "\n",
        "For further reference and resources, it's advised to check out the [NumPy documentation](https://numpy.org/devdocs/user/index.html).\n",
        "\n",
        "And if you get stuck, try searching for a question in the following format: \"how to do XYZ with numpy\", where XYZ is the function you want to leverage from NumPy."
      ]
    },
    {
      "cell_type": "code",
      "execution_count": 4,
      "metadata": {
        "id": "rGEk7QuZ3tBV"
      },
      "outputs": [],
      "source": [
        "# Import NumPy as its abbreviation 'np'\n",
        "import numpy as np"
      ]
    },
    {
      "cell_type": "code",
      "execution_count": 5,
      "metadata": {
        "id": "kA4hjClL3tBc"
      },
      "outputs": [],
      "source": [
        "# Create a 1-dimensional NumPy array using np.array()\n",
        "array_1d = np.array([1, 2, 3, 4, 5])\n",
        "\n",
        "# Create a 2-dimensional NumPy array using np.array()\n",
        "array_2d = np.array([[1, 2, 3], [4, 5, 6]])\n",
        "\n",
        "# Create a 3-dimensional Numpy array using np.array()\n",
        "array_3d = np.array([[[1, 2, 3], [4, 5, 6]], [[7, 8, 9], [10, 11, 12]]])"
      ]
    },
    {
      "cell_type": "markdown",
      "metadata": {
        "id": "gcPDmNGE3tBe"
      },
      "source": [
        "Now we've you've created 3 different arrays, let's find details about them.\n",
        "\n",
        "Find the shape, number of dimensions, data type, size and type of each array."
      ]
    },
    {
      "cell_type": "code",
      "execution_count": 6,
      "metadata": {
        "colab": {
          "base_uri": "https://localhost:8080/"
        },
        "id": "hb7ha4bw3tBg",
        "outputId": "c89c069c-2a56-400f-cac5-aeb12eb6c88b"
      },
      "outputs": [
        {
          "output_type": "stream",
          "name": "stdout",
          "text": [
            "Shape: (5,)\n",
            "Number of Dimensions: 1\n",
            "Data Type: int64\n",
            "Size: 5\n",
            "Type: <class 'numpy.ndarray'>\n"
          ]
        }
      ],
      "source": [
        "# Attributes of 1-dimensional array (shape,\n",
        "# number of dimensions, data type, size and type)\n",
        "\n",
        "# Create a 1-dimensional NumPy array\n",
        "array_1d = np.array([1, 2, 3, 4, 5])\n",
        "\n",
        "# Get the shape of the array (number of elements along each axis)\n",
        "shape = array_1d.shape\n",
        "\n",
        "# Get the number of dimensions of the array\n",
        "num_dimensions = array_1d.ndim\n",
        "\n",
        "# Get the data type (dtype) of the array\n",
        "data_type = array_1d.dtype\n",
        "\n",
        "# Get the size (total number of elements) of the array\n",
        "size = array_1d.size\n",
        "\n",
        "# Get the type of the array (NumPy ndarray)\n",
        "array_type = type(array_1d)\n",
        "\n",
        "# Print the attributes\n",
        "print(\"Shape:\", shape)\n",
        "print(\"Number of Dimensions:\", num_dimensions)\n",
        "print(\"Data Type:\", data_type)\n",
        "print(\"Size:\", size)\n",
        "print(\"Type:\", array_type)\n",
        "\n"
      ]
    },
    {
      "cell_type": "code",
      "execution_count": 7,
      "metadata": {
        "colab": {
          "base_uri": "https://localhost:8080/"
        },
        "id": "nJvdxVNJ3tBi",
        "outputId": "2ac4be22-baca-4c07-c127-15e1d8413faa"
      },
      "outputs": [
        {
          "output_type": "stream",
          "name": "stdout",
          "text": [
            "Shape: (3, 3)\n",
            "Number of Dimensions: 2\n",
            "Data Type: int64\n",
            "Size: 9\n",
            "Type: <class 'numpy.ndarray'>\n"
          ]
        }
      ],
      "source": [
        "# Attributes of 2-dimensional array\n",
        "\n",
        "array_2d = np.array([[1, 2, 3], [4, 5, 6], [7, 8, 9]])\n",
        "\n",
        "# Get the shape of the array (number of rows, number of columns)\n",
        "shape = array_2d.shape\n",
        "\n",
        "# Get the number of dimensions of the array\n",
        "num_dimensions = array_2d.ndim\n",
        "\n",
        "# Get the data type (dtype) of the array\n",
        "data_type = array_2d.dtype\n",
        "\n",
        "# Get the size (total number of elements) of the array\n",
        "size = array_2d.size\n",
        "\n",
        "# Get the type of the array (NumPy ndarray)\n",
        "array_type = type(array_2d)\n",
        "\n",
        "# Print the attributes\n",
        "print(\"Shape:\", shape)\n",
        "print(\"Number of Dimensions:\", num_dimensions)\n",
        "print(\"Data Type:\", data_type)\n",
        "print(\"Size:\", size)\n",
        "print(\"Type:\", array_type)\n"
      ]
    },
    {
      "cell_type": "code",
      "execution_count": 8,
      "metadata": {
        "colab": {
          "base_uri": "https://localhost:8080/"
        },
        "id": "UdPG0QvE3tBk",
        "outputId": "a48839a4-b9ab-470f-810e-0dab60cf797e"
      },
      "outputs": [
        {
          "output_type": "stream",
          "name": "stdout",
          "text": [
            "Shape: (3, 2, 3)\n",
            "Number of Dimensions: 3\n",
            "Data Type: int64\n",
            "Size: 18\n",
            "Type: <class 'numpy.ndarray'>\n"
          ]
        }
      ],
      "source": [
        "# Attributes of 3-dimensional array\n",
        "\n",
        "array_3d = np.array([[[1, 2, 3], [4, 5, 6]], [[7, 8, 9], [10, 11, 12]], [[13, 14, 15], [16, 17, 18]]])\n",
        "\n",
        "# Get the shape of the array (number of \"slices,\" number of rows, number of columns)\n",
        "shape = array_3d.shape\n",
        "\n",
        "# Get the number of dimensions of the array\n",
        "num_dimensions = array_3d.ndim\n",
        "\n",
        "# Get the data type (dtype) of the array\n",
        "data_type = array_3d.dtype\n",
        "\n",
        "# Get the size (total number of elements) of the array\n",
        "size = array_3d.size\n",
        "\n",
        "# Get the type of the array (NumPy ndarray)\n",
        "array_type = type(array_3d)\n",
        "\n",
        "# Print the attributes\n",
        "print(\"Shape:\", shape)\n",
        "print(\"Number of Dimensions:\", num_dimensions)\n",
        "print(\"Data Type:\", data_type)\n",
        "print(\"Size:\", size)\n",
        "print(\"Type:\", array_type)\n"
      ]
    },
    {
      "cell_type": "code",
      "execution_count": 9,
      "metadata": {
        "colab": {
          "base_uri": "https://localhost:8080/"
        },
        "id": "NT4fQad13tBm",
        "outputId": "4dddb7ba-6cae-4af5-9713-6770ce56c59d"
      },
      "outputs": [
        {
          "output_type": "stream",
          "name": "stdout",
          "text": [
            "   0  1  2\n",
            "0  1  2  3\n",
            "1  4  5  6\n",
            "2  7  8  9\n"
          ]
        }
      ],
      "source": [
        "# Import pandas and create a DataFrame out of one\n",
        "# of the arrays you've created\n",
        "import pandas as pd\n",
        "\n",
        "# Create a 2-dimensional NumPy array\n",
        "array_2d = np.array([[1, 2, 3], [4, 5, 6], [7, 8, 9]])\n",
        "\n",
        "# Create a DataFrame from the NumPy array\n",
        "df = pd.DataFrame(array_2d)\n",
        "\n",
        "# Display the DataFrame\n",
        "print(df)\n"
      ]
    },
    {
      "cell_type": "code",
      "execution_count": 10,
      "metadata": {
        "colab": {
          "base_uri": "https://localhost:8080/"
        },
        "id": "wPA1vI-L3tBo",
        "outputId": "e9701ebb-6f31-4032-9f32-876d0ab1db51"
      },
      "outputs": [
        {
          "output_type": "stream",
          "name": "stdout",
          "text": [
            "[[1. 1.]\n",
            " [1. 1.]\n",
            " [1. 1.]\n",
            " [1. 1.]\n",
            " [1. 1.]\n",
            " [1. 1.]\n",
            " [1. 1.]\n",
            " [1. 1.]\n",
            " [1. 1.]\n",
            " [1. 1.]]\n"
          ]
        }
      ],
      "source": [
        "# Create an array of shape (10, 2) with only ones\n",
        "\n",
        "ones_array = np.ones((10, 2))\n",
        "\n",
        "# Display the array\n",
        "print(ones_array)\n"
      ]
    },
    {
      "cell_type": "code",
      "execution_count": 11,
      "metadata": {
        "colab": {
          "base_uri": "https://localhost:8080/"
        },
        "id": "URjywD0w3tBq",
        "outputId": "bf03624a-df9d-40c5-94f3-093321e1b0df"
      },
      "outputs": [
        {
          "output_type": "stream",
          "name": "stdout",
          "text": [
            "[[[0. 0. 0.]\n",
            "  [0. 0. 0.]]\n",
            "\n",
            " [[0. 0. 0.]\n",
            "  [0. 0. 0.]]\n",
            "\n",
            " [[0. 0. 0.]\n",
            "  [0. 0. 0.]]\n",
            "\n",
            " [[0. 0. 0.]\n",
            "  [0. 0. 0.]]\n",
            "\n",
            " [[0. 0. 0.]\n",
            "  [0. 0. 0.]]\n",
            "\n",
            " [[0. 0. 0.]\n",
            "  [0. 0. 0.]]\n",
            "\n",
            " [[0. 0. 0.]\n",
            "  [0. 0. 0.]]]\n"
          ]
        }
      ],
      "source": [
        "# Create a NumPy array of shape (7, 2, 3) with zeros\n",
        "zeros_array = np.zeros((7, 2, 3))\n",
        "\n",
        "# Display the array\n",
        "print(zeros_array)\n"
      ]
    },
    {
      "cell_type": "code",
      "execution_count": 12,
      "metadata": {
        "colab": {
          "base_uri": "https://localhost:8080/"
        },
        "id": "U7p87ZH93tBr",
        "outputId": "dd85d832-e059-4018-b864-4262e2c7a911"
      },
      "outputs": [
        {
          "output_type": "stream",
          "name": "stdout",
          "text": [
            "[ 0  3  6  9 12 15 18 21 24 27 30 33 36 39 42 45 48 51 54 57 60 63 66 69\n",
            " 72 75 78 81 84 87 90 93 96 99]\n"
          ]
        }
      ],
      "source": [
        "# Create an array within a range of 0 and 100 with step 3\n",
        "\n",
        "array_with_range = np.arange(0, 100, 3)\n",
        "\n",
        "# Display the array\n",
        "print(array_with_range)\n"
      ]
    },
    {
      "cell_type": "code",
      "execution_count": 13,
      "metadata": {
        "colab": {
          "base_uri": "https://localhost:8080/"
        },
        "id": "8YNGw0D_3tBs",
        "outputId": "ac65b8a4-b3ee-4315-eb81-a55a4777f5ad"
      },
      "outputs": [
        {
          "output_type": "stream",
          "name": "stdout",
          "text": [
            "[[2.25586849 8.54713115]\n",
            " [8.94484667 1.48975406]\n",
            " [6.09648961 2.69491562]\n",
            " [7.59745773 3.98735071]\n",
            " [5.366657   0.64919895]\n",
            " [8.22348602 1.09805316]\n",
            " [2.00065605 3.54515631]]\n"
          ]
        }
      ],
      "source": [
        "# Create a random array with numbers between 0 and 10 of size (7, 2)\n",
        "\n",
        "random_array = 10 * np.random.rand(7, 2)\n",
        "\n",
        "# Display the array\n",
        "print(random_array)\n"
      ]
    },
    {
      "cell_type": "code",
      "execution_count": 14,
      "metadata": {
        "colab": {
          "base_uri": "https://localhost:8080/"
        },
        "id": "TeShkJKD3tBt",
        "outputId": "3239cb1a-f2f6-4a21-b3e5-2a9bae109e17"
      },
      "outputs": [
        {
          "output_type": "stream",
          "name": "stdout",
          "text": [
            "[[0.22311188 0.96178472 0.782132   0.72884383 0.10498308]\n",
            " [0.02380192 0.7626205  0.82340238 0.79830714 0.70584647]\n",
            " [0.44589051 0.43761224 0.04040567 0.43284544 0.1483754 ]]\n"
          ]
        }
      ],
      "source": [
        "# Create a random array of floats between 0 & 1 of shape (3, 5)\n",
        "\n",
        "random_array = np.random.rand(3, 5)\n",
        "\n",
        "# Display the array\n",
        "print(random_array)\n"
      ]
    },
    {
      "cell_type": "code",
      "execution_count": 15,
      "metadata": {
        "colab": {
          "base_uri": "https://localhost:8080/"
        },
        "id": "Fje7LUX13tBu",
        "outputId": "f3cf0e30-7d1c-47c4-b439-c8ef4592ea4d"
      },
      "outputs": [
        {
          "output_type": "stream",
          "name": "stdout",
          "text": [
            "[[3.74540119 9.50714306 7.31993942 5.98658484 1.5601864  1.5599452 ]\n",
            " [0.58083612 8.66176146 6.01115012 7.08072578 0.20584494 9.69909852]\n",
            " [8.32442641 2.12339111 1.81824967 1.8340451  3.04242243 5.24756432]\n",
            " [4.31945019 2.9122914  6.11852895 1.39493861 2.92144649 3.66361843]]\n"
          ]
        }
      ],
      "source": [
        "# Set the random seed to 42\n",
        "\n",
        "np.random.seed(42)\n",
        "\n",
        "# Create a random array of numbers between 0 and 10, with size (4, 6)\n",
        "random_array = 10 * np.random.rand(4, 6)\n",
        "\n",
        "# Display the array\n",
        "print(random_array)\n"
      ]
    },
    {
      "cell_type": "markdown",
      "metadata": {
        "id": "DcTqLuuV3tBv"
      },
      "source": [
        "Run the cell above again, what happens?\n",
        "\n",
        "Are the numbers in the array different or the same? Why do think this is?"
      ]
    },
    {
      "cell_type": "code",
      "execution_count": 16,
      "metadata": {
        "colab": {
          "base_uri": "https://localhost:8080/"
        },
        "id": "2BvKNv613tBw",
        "outputId": "6c39528b-c094-42f2-b40e-af0964003c32"
      },
      "outputs": [
        {
          "output_type": "stream",
          "name": "stdout",
          "text": [
            "Random Array:\n",
            "[[ 3  7  4  9  3  5  3]\n",
            " [ 7  5  9  7  2  4  9]\n",
            " [ 2 10  9 10  5  2  4]]\n",
            "\n",
            "Unique Numbers:\n",
            "[ 2  3  4  5  7  9 10]\n"
          ]
        }
      ],
      "source": [
        "# Create a random array of numbers between 1 and 10, with size (3, 7)\n",
        "random_array = np.random.randint(1, 11, size=(3, 7))\n",
        "\n",
        "# Display the array\n",
        "print(\"Random Array:\")\n",
        "print(random_array)\n",
        "\n",
        "# Find the unique numbers in the array\n",
        "unique_numbers = np.unique(random_array)\n",
        "\n",
        "# Display the unique numbers\n",
        "print(\"\\nUnique Numbers:\")\n",
        "print(unique_numbers)\n",
        "\n"
      ]
    },
    {
      "cell_type": "code",
      "execution_count": 17,
      "metadata": {
        "colab": {
          "base_uri": "https://localhost:8080/"
        },
        "id": "MzvJJ8VA3tBw",
        "outputId": "be01f6e5-fb05-45d4-d416-cb5855b89a22"
      },
      "outputs": [
        {
          "output_type": "stream",
          "name": "stdout",
          "text": [
            "Value at 0'th index: 2\n"
          ]
        }
      ],
      "source": [
        "\n",
        "# Find the value at the 0'th index\n",
        "value_at_index_0 = unique_numbers[0]\n",
        "\n",
        "# Display the value\n",
        "print(\"Value at 0'th index:\", value_at_index_0)\n",
        "\n"
      ]
    },
    {
      "cell_type": "code",
      "execution_count": 18,
      "metadata": {
        "colab": {
          "base_uri": "https://localhost:8080/"
        },
        "id": "KOpzmQul3tBx",
        "outputId": "cf5ab3f4-3fd2-4a15-e605-6b888fb9a009"
      },
      "outputs": [
        {
          "output_type": "stream",
          "name": "stdout",
          "text": [
            "First 2 Rows:\n",
            "[2 3]\n"
          ]
        }
      ],
      "source": [
        "# Get the first 2 rows\n",
        "first_2_rows = unique_numbers[:2]\n",
        "\n",
        "# Display the first 2 rows\n",
        "print(\"First 2 Rows:\")\n",
        "print(first_2_rows)\n"
      ]
    },
    {
      "cell_type": "code",
      "execution_count": 20,
      "metadata": {
        "colab": {
          "base_uri": "https://localhost:8080/"
        },
        "id": "X0F79eD43tBy",
        "outputId": "4a89decf-a70c-4524-ec80-b2509c65525e"
      },
      "outputs": [
        {
          "output_type": "stream",
          "name": "stdout",
          "text": [
            "First 2 Values of the First 2 Rows:\n",
            "[2 3]\n"
          ]
        }
      ],
      "source": [
        "# Get the first 2 values of the first 2 rows\n",
        "first_2_values = unique_numbers[:2]\n",
        "\n",
        "# Display the first 2 values of the first 2 rows\n",
        "print(\"First 2 Values of the First 2 Rows:\")\n",
        "print(first_2_values)\n"
      ]
    },
    {
      "cell_type": "code",
      "execution_count": 21,
      "metadata": {
        "colab": {
          "base_uri": "https://localhost:8080/"
        },
        "id": "h7yH9QMf3tBz",
        "outputId": "51d7eb15-2c17-4e38-db9d-f7f5a2542dd7"
      },
      "outputs": [
        {
          "output_type": "stream",
          "name": "stdout",
          "text": [
            "Random Array:\n",
            "[[2.41025466 6.83263519 6.09996658 8.33194912 1.73364654]\n",
            " [3.91060608 1.82236088 7.5536141  4.25155874 2.07941663]\n",
            " [5.67700328 0.31313292 8.42284775 4.49754133 3.95150236]]\n",
            "\n",
            "Ones Array:\n",
            "[[1. 1. 1. 1. 1.]\n",
            " [1. 1. 1. 1. 1.]\n",
            " [1. 1. 1. 1. 1.]]\n"
          ]
        }
      ],
      "source": [
        "# Create a random array of numbers between 0 and 10, size (3, 5)\n",
        "random_array = 10 * np.random.rand(3, 5)\n",
        "\n",
        "# Create an array of ones, size (3, 5)\n",
        "ones_array = np.ones((3, 5))\n",
        "\n",
        "# Display the arrays\n",
        "print(\"Random Array:\")\n",
        "print(random_array)\n",
        "print(\"\\nOnes Array:\")\n",
        "print(ones_array)\n",
        "\n"
      ]
    },
    {
      "cell_type": "code",
      "execution_count": 22,
      "metadata": {
        "colab": {
          "base_uri": "https://localhost:8080/"
        },
        "id": "bYUMmhR53tB0",
        "outputId": "3aaeda4c-d99d-4008-b074-60fea187c166"
      },
      "outputs": [
        {
          "output_type": "stream",
          "name": "stdout",
          "text": [
            "Result Array (Random Array + Ones Array):\n",
            "[[10.26658866  8.27271996  4.26540769  6.70443974  6.2083426 ]\n",
            " [10.61172024  9.44533849  8.4732011   6.39692132  6.86751166]\n",
            " [10.65255307  7.07034248  3.75999182  3.96273506  2.65266939]]\n"
          ]
        }
      ],
      "source": [
        "# Create a random array of numbers between 0 and 10, size (3, 5)\n",
        "random_array = 10 * np.random.rand(3, 5)\n",
        "\n",
        "# Create an array of ones, size (3, 5)\n",
        "ones_array = np.ones((3, 5))\n",
        "\n",
        "# Add the two arrays together\n",
        "result_array = random_array + ones_array\n",
        "\n",
        "# Display the result\n",
        "print(\"Result Array (Random Array + Ones Array):\")\n",
        "print(result_array)\n"
      ]
    },
    {
      "cell_type": "code",
      "execution_count": 23,
      "metadata": {
        "colab": {
          "base_uri": "https://localhost:8080/"
        },
        "id": "Vuk8ykaK3tB1",
        "outputId": "24698652-61c2-4b07-c434-57978acec5ea"
      },
      "outputs": [
        {
          "output_type": "stream",
          "name": "stdout",
          "text": [
            "Ones Array 2:\n",
            "[[1. 1. 1.]\n",
            " [1. 1. 1.]\n",
            " [1. 1. 1.]\n",
            " [1. 1. 1.]\n",
            " [1. 1. 1.]]\n"
          ]
        }
      ],
      "source": [
        "# Create an array of ones with shape (5, 3)\n",
        "ones_array_2 = np.ones((5, 3))\n",
        "\n",
        "# Display the new array\n",
        "print(\"Ones Array 2:\")\n",
        "print(ones_array_2)\n"
      ]
    },
    {
      "cell_type": "code",
      "execution_count": 24,
      "metadata": {
        "colab": {
          "base_uri": "https://localhost:8080/"
        },
        "id": "1aiPaUJ93tB2",
        "outputId": "95e035e7-072f-4019-c773-ecb451c66c16"
      },
      "outputs": [
        {
          "output_type": "stream",
          "name": "stdout",
          "text": [
            "Ones Array 2:\n",
            "[[1. 1. 1.]\n",
            " [1. 1. 1.]\n",
            " [1. 1. 1.]\n",
            " [1. 1. 1.]\n",
            " [1. 1. 1.]]\n",
            "\n",
            "Result (Adding Transposed Ones Array 2 and Result Array):\n",
            "[[11.26658866  9.27271996  5.26540769  7.70443974  7.2083426 ]\n",
            " [11.61172024 10.44533849  9.4732011   7.39692132  7.86751166]\n",
            " [11.65255307  8.07034248  4.75999182  4.96273506  3.65266939]]\n"
          ]
        }
      ],
      "source": [
        "# Create another array of ones with shape (5, 3)\n",
        "ones_array_2 = np.ones((5, 3))\n",
        "\n",
        "# Display the new array\n",
        "print(\"Ones Array 2:\")\n",
        "print(ones_array_2)\n",
        "\n",
        "# Transpose ones_array_2 to make it (3, 5)\n",
        "ones_array_2_transposed = ones_array_2.T\n",
        "\n",
        "# Add the transposed ones_array_2 and result_array\n",
        "result = result_array + ones_array_2_transposed\n",
        "\n",
        "# Display the result\n",
        "print(\"\\nResult (Adding Transposed Ones Array 2 and Result Array):\")\n",
        "print(result)\n",
        "\n"
      ]
    },
    {
      "cell_type": "markdown",
      "metadata": {
        "id": "unXGLZQo3tB3"
      },
      "source": [
        "When you try the last cell, it produces an error. Why do think this is?\n",
        "\n",
        "How would you fix it?"
      ]
    },
    {
      "cell_type": "code",
      "execution_count": 25,
      "metadata": {
        "colab": {
          "base_uri": "https://localhost:8080/"
        },
        "id": "4Kt1SbDk3tB4",
        "outputId": "663d17ea-f282-482a-974e-d1516adadef6"
      },
      "outputs": [
        {
          "output_type": "stream",
          "name": "stdout",
          "text": [
            "Ones Array 3:\n",
            "[[1. 1. 1. 1. 1.]\n",
            " [1. 1. 1. 1. 1.]\n",
            " [1. 1. 1. 1. 1.]]\n"
          ]
        }
      ],
      "source": [
        "# Create another array of ones with shape (3, 5)\n",
        "ones_array_3 = np.ones((3, 5))\n",
        "\n",
        "# Display the new array\n",
        "print(\"Ones Array 3:\")\n",
        "print(ones_array_3)\n",
        "\n"
      ]
    },
    {
      "cell_type": "code",
      "execution_count": 28,
      "metadata": {
        "colab": {
          "base_uri": "https://localhost:8080/"
        },
        "id": "gIN08IBy3tB5",
        "outputId": "cf677634-1abd-401c-dcc8-08fc34ad3e29"
      },
      "outputs": [
        {
          "output_type": "stream",
          "name": "stdout",
          "text": [
            "Ones Array 3\n"
          ]
        }
      ],
      "source": [
        "# Create another array of ones with shape (3, 5)\n",
        "ones_array_3 = np.ones((3, 5))\n",
        "\n",
        "# Display the new array\n",
        "print(\"Ones Array 3\")\n",
        "\n"
      ]
    },
    {
      "cell_type": "code",
      "execution_count": 29,
      "metadata": {
        "colab": {
          "base_uri": "https://localhost:8080/"
        },
        "id": "fymaOnar3tB5",
        "outputId": "d58e4b24-8b62-4ef6-ac64-222b41046654"
      },
      "outputs": [
        {
          "output_type": "stream",
          "name": "stdout",
          "text": [
            "Result After Multiplication:\n",
            "[[11.26658866  9.27271996  5.26540769  7.70443974  7.2083426 ]\n",
            " [11.61172024 10.44533849  9.4732011   7.39692132  7.86751166]\n",
            " [11.65255307  8.07034248  4.75999182  4.96273506  3.65266939]]\n"
          ]
        }
      ],
      "source": [
        "# Multiply the array of ones (shape 3, 5) by the most recent array (shape 3, 5)\n",
        "result_after_multiplication = ones_array_3 * result\n",
        "\n",
        "# Display the result\n",
        "print(\"Result After Multiplication:\")\n",
        "print(result_after_multiplication)\n"
      ]
    },
    {
      "cell_type": "code",
      "execution_count": 30,
      "metadata": {
        "colab": {
          "base_uri": "https://localhost:8080/"
        },
        "id": "Q8VEhhCc3tB6",
        "outputId": "9658546a-a936-4565-b426-a783c56bcb63"
      },
      "outputs": [
        {
          "output_type": "stream",
          "name": "stdout",
          "text": [
            "Result After Raising to the Power of 2:\n",
            "[[126.93601999  85.98333543  27.72451812  59.35839177  51.96020304]\n",
            " [134.83204701 109.1050961   89.74153911  54.71444507  61.89773967]\n",
            " [135.78199311  65.13042769  22.65752213  24.62873925  13.34199368]]\n"
          ]
        }
      ],
      "source": [
        "# Raise the latest array to the power of 2\n",
        "result_power_of_2 = result_after_multiplication ** 2\n",
        "\n",
        "# Display the result\n",
        "print(\"Result After Raising to the Power of 2:\")\n",
        "print(result_power_of_2)\n",
        "\n"
      ]
    },
    {
      "cell_type": "code",
      "execution_count": 31,
      "metadata": {
        "colab": {
          "base_uri": "https://localhost:8080/"
        },
        "id": "ZqeH1ub_3tB7",
        "outputId": "0ab6720a-10a2-4322-f4ef-6faf8e02a7b3"
      },
      "outputs": [
        {
          "output_type": "stream",
          "name": "stdout",
          "text": [
            "Result After Squaring Using np.square():\n",
            "[[126.93601999  85.98333543  27.72451812  59.35839177  51.96020304]\n",
            " [134.83204701 109.1050961   89.74153911  54.71444507  61.89773967]\n",
            " [135.78199311  65.13042769  22.65752213  24.62873925  13.34199368]]\n"
          ]
        }
      ],
      "source": [
        "# Do the same thing with np.square()\n",
        "# Use np.square() to square the latest array\n",
        "result_square = np.square(result_after_multiplication)\n",
        "\n",
        "# Display the result\n",
        "print(\"Result After Squaring Using np.square():\")\n",
        "print(result_square)\n"
      ]
    },
    {
      "cell_type": "code",
      "execution_count": 32,
      "metadata": {
        "colab": {
          "base_uri": "https://localhost:8080/"
        },
        "id": "AMOyqNDu3tB7",
        "outputId": "c2198908-6f1a-4af7-e3a1-3e594d7e70af"
      },
      "outputs": [
        {
          "output_type": "stream",
          "name": "stdout",
          "text": [
            "Mean of the Latest Array:\n",
            "70.91960074471837\n"
          ]
        }
      ],
      "source": [
        "# Find the mean of the latest array using np.mean()\n",
        "\n",
        "mean_result = np.mean(result_square)\n",
        "\n",
        "# Display the mean\n",
        "print(\"Mean of the Latest Array:\")\n",
        "print(mean_result)\n",
        "\n"
      ]
    },
    {
      "cell_type": "code",
      "execution_count": 33,
      "metadata": {
        "colab": {
          "base_uri": "https://localhost:8080/"
        },
        "id": "nDNOMhtS3tB8",
        "outputId": "73a5118c-90d0-4a05-eb92-68eea77c8964"
      },
      "outputs": [
        {
          "output_type": "stream",
          "name": "stdout",
          "text": [
            "Maximum of the Latest Array:\n",
            "135.78199311072407\n"
          ]
        }
      ],
      "source": [
        "# Find the maximum of the latest array using np.max()\n",
        "\n",
        "max_result = np.max(result_square)\n",
        "\n",
        "# Display the maximum\n",
        "print(\"Maximum of the Latest Array:\")\n",
        "print(max_result)\n",
        "\n"
      ]
    },
    {
      "cell_type": "code",
      "execution_count": 34,
      "metadata": {
        "colab": {
          "base_uri": "https://localhost:8080/"
        },
        "id": "6Ux-opLS3tB9",
        "outputId": "19f2d055-fe70-4c9b-f3a9-bb42c72ff37b"
      },
      "outputs": [
        {
          "output_type": "stream",
          "name": "stdout",
          "text": [
            "Minimum of the Latest Array:\n",
            "13.341993677245515\n"
          ]
        }
      ],
      "source": [
        "\n",
        "# Find the minimum of the latest array using np.min()\n",
        "min_result = np.min(result_square)\n",
        "\n",
        "# Display the minimum\n",
        "print(\"Minimum of the Latest Array:\")\n",
        "print(min_result)\n",
        "\n"
      ]
    },
    {
      "cell_type": "code",
      "execution_count": 35,
      "metadata": {
        "colab": {
          "base_uri": "https://localhost:8080/"
        },
        "id": "hUcjZW-u3tB-",
        "outputId": "c18e71ab-8cc7-493f-eb7d-52f3f5f78bcb"
      },
      "outputs": [
        {
          "output_type": "stream",
          "name": "stdout",
          "text": [
            "Standard Deviation of the Latest Array:\n",
            "39.993989093287674\n"
          ]
        }
      ],
      "source": [
        "# Find the standard deviation of the latest array using np.std()\n",
        "std_deviation_result = np.std(result_square)\n",
        "\n",
        "# Display the standard deviation\n",
        "print(\"Standard Deviation of the Latest Array:\")\n",
        "print(std_deviation_result)"
      ]
    },
    {
      "cell_type": "code",
      "execution_count": 36,
      "metadata": {
        "colab": {
          "base_uri": "https://localhost:8080/"
        },
        "id": "u7Mkb91_3tB_",
        "outputId": "8687d417-e14a-4da2-bf14-1d426ea6c045"
      },
      "outputs": [
        {
          "output_type": "stream",
          "name": "stdout",
          "text": [
            "Variance of the Latest Array:\n",
            "1599.5191635940132\n"
          ]
        }
      ],
      "source": [
        "# Find the variance of the latest array using np.var()\n",
        "variance_result = np.var(result_square)\n",
        "\n",
        "# Display the variance\n",
        "print(\"Variance of the Latest Array:\")\n",
        "print(variance_result)"
      ]
    },
    {
      "cell_type": "code",
      "execution_count": 37,
      "metadata": {
        "colab": {
          "base_uri": "https://localhost:8080/"
        },
        "id": "DiKMkmFj3tB_",
        "outputId": "972e4821-89a4-4ea6-ee47-13eddb9982c2"
      },
      "outputs": [
        {
          "output_type": "stream",
          "name": "stdout",
          "text": [
            "Reshaped Array to (3, 5, 1):\n",
            "[[[126.93601999]\n",
            "  [ 85.98333543]\n",
            "  [ 27.72451812]\n",
            "  [ 59.35839177]\n",
            "  [ 51.96020304]]\n",
            "\n",
            " [[134.83204701]\n",
            "  [109.1050961 ]\n",
            "  [ 89.74153911]\n",
            "  [ 54.71444507]\n",
            "  [ 61.89773967]]\n",
            "\n",
            " [[135.78199311]\n",
            "  [ 65.13042769]\n",
            "  [ 22.65752213]\n",
            "  [ 24.62873925]\n",
            "  [ 13.34199368]]]\n"
          ]
        }
      ],
      "source": [
        "# Reshape the latest array to (3, 5, 1)\n",
        "reshaped_result = result_square.reshape(3, 5, 1)\n",
        "\n",
        "# Display the reshaped array\n",
        "print(\"Reshaped Array to (3, 5, 1):\")\n",
        "print(reshaped_result)\n"
      ]
    },
    {
      "cell_type": "code",
      "execution_count": 38,
      "metadata": {
        "colab": {
          "base_uri": "https://localhost:8080/"
        },
        "id": "vYyRJP9H3tCA",
        "outputId": "352fd5d2-31ca-40ba-8508-9e786b14a15d"
      },
      "outputs": [
        {
          "output_type": "stream",
          "name": "stdout",
          "text": [
            "Transposed Array:\n",
            "[[[126.93601999 134.83204701 135.78199311]\n",
            "  [ 85.98333543 109.1050961   65.13042769]\n",
            "  [ 27.72451812  89.74153911  22.65752213]\n",
            "  [ 59.35839177  54.71444507  24.62873925]\n",
            "  [ 51.96020304  61.89773967  13.34199368]]]\n"
          ]
        }
      ],
      "source": [
        "# Transpose the latest array\n",
        "# Transpose the latest array using np.transpose()\n",
        "transposed_result = np.transpose(reshaped_result)\n",
        "\n",
        "# Display the transposed array\n",
        "print(\"Transposed Array:\")\n",
        "print(transposed_result)\n"
      ]
    },
    {
      "cell_type": "markdown",
      "metadata": {
        "id": "3oE7dUMN3tCB"
      },
      "source": [
        "What does the transpose do?"
      ]
    },
    {
      "cell_type": "code",
      "execution_count": 40,
      "metadata": {
        "colab": {
          "base_uri": "https://localhost:8080/"
        },
        "id": "N5CYCMxK3tCC",
        "outputId": "3f79e85d-6138-479c-9ae0-ad34c6384951"
      },
      "outputs": [
        {
          "output_type": "stream",
          "name": "stdout",
          "text": [
            "Array 1 (3x3):\n",
            "[[ 8  6  8]\n",
            " [ 7  0  7]\n",
            " [ 7 10  2]]\n",
            "\n",
            "Array 2 (3x2):\n",
            "[[ 0  7]\n",
            " [ 2  2]\n",
            " [ 0 10]]\n"
          ]
        }
      ],
      "source": [
        "# Create an array of random integers between 0 and 10, size (3, 3)\n",
        "array1 = np.random.randint(0, 11, size=(3, 3))\n",
        "\n",
        "# Create another array of random integers between 0 and 10, size (3, 2)\n",
        "array2 = np.random.randint(0, 11, size=(3, 2))\n",
        "\n",
        "# Display both arrays\n",
        "print(\"Array 1 (3x3):\")\n",
        "print(array1)\n",
        "\n",
        "print(\"\\nArray 2 (3x2):\")\n",
        "print(array2)"
      ]
    },
    {
      "cell_type": "code",
      "execution_count": null,
      "metadata": {
        "id": "GVXBkF7_3tCD"
      },
      "outputs": [],
      "source": [
        "# Perform a dot product on the two newest arrays you created\n"
      ]
    },
    {
      "cell_type": "code",
      "execution_count": 41,
      "metadata": {
        "colab": {
          "base_uri": "https://localhost:8080/"
        },
        "id": "neFbbJBC3tCY",
        "outputId": "81cf42f6-7235-4509-812f-dad0eed81c42"
      },
      "outputs": [
        {
          "output_type": "stream",
          "name": "stdout",
          "text": [
            "Array 1 (4x3):\n",
            "[[4 9 6]\n",
            " [9 8 6]\n",
            " [8 7 1]\n",
            " [0 6 6]]\n",
            "\n",
            "Array 2 (4x3):\n",
            "[[ 7  4  2]\n",
            " [ 7  5 10]\n",
            " [ 2  0  2]\n",
            " [ 4  2  0]]\n"
          ]
        }
      ],
      "source": [
        "# Create two arrays of random integers between 0 to 10\n",
        "# both of size (4, 3)\n",
        "# Create the first array of random integers between 0 and 10, size (4, 3)\n",
        "array1 = np.random.randint(0, 11, size=(4, 3))\n",
        "\n",
        "# Create the second array of random integers between 0 and 10, size (4, 3)\n",
        "array2 = np.random.randint(0, 11, size=(4, 3))\n",
        "\n",
        "# Display both arrays\n",
        "print(\"Array 1 (4x3):\")\n",
        "print(array1)\n",
        "\n",
        "print(\"\\nArray 2 (4x3):\")\n",
        "print(array2)"
      ]
    },
    {
      "cell_type": "code",
      "execution_count": 42,
      "metadata": {
        "colab": {
          "base_uri": "https://localhost:8080/"
        },
        "id": "1jNRW2YE3tCZ",
        "outputId": "d519f170-7203-4ef0-eaac-1bea319c7cca"
      },
      "outputs": [
        {
          "output_type": "stream",
          "name": "stdout",
          "text": [
            "Dot Product Result:\n",
            "[[ 84 132 126  83]\n",
            " [106 160 152 112]\n",
            " [ 75 150 148  72]\n",
            " [ 36  45  42  57]]\n"
          ]
        }
      ],
      "source": [
        "# Perform a dot product on the two newest arrays you created\n",
        "# Create the first array of random integers between 0 and 10, size (4, 3)\n",
        "array1 = np.random.randint(0, 11, size=(4, 3))\n",
        "\n",
        "# Create the second array of random integers between 0 and 10, size (4, 3)\n",
        "array2 = np.random.randint(0, 11, size=(4, 3))\n",
        "\n",
        "# Perform the dot product\n",
        "dot_product_result = np.dot(array1, array2.T)\n",
        "\n",
        "# Display the result\n",
        "print(\"Dot Product Result:\")\n",
        "print(dot_product_result)"
      ]
    },
    {
      "cell_type": "markdown",
      "metadata": {
        "id": "xK7uvxU13tCZ"
      },
      "source": [
        "It doesn't work. How would you fix it?"
      ]
    },
    {
      "cell_type": "code",
      "execution_count": 43,
      "metadata": {
        "colab": {
          "base_uri": "https://localhost:8080/"
        },
        "id": "rESfaUsN3tCa",
        "outputId": "b892dbe7-9b27-484a-a4ca-554ebb26ad45"
      },
      "outputs": [
        {
          "output_type": "stream",
          "name": "stdout",
          "text": [
            "Dot Product Result:\n",
            "[[127 102 118  80]\n",
            " [137  98 175  64]\n",
            " [142 100 146  80]\n",
            " [ 24  48  80   0]]\n"
          ]
        }
      ],
      "source": [
        "# Take the latest two arrays, perform a transpose on one of them and then perform\n",
        "# a dot product on them both\n",
        "# Create the first array of random integers between 0 and 10, size (4, 3)\n",
        "array1 = np.random.randint(0, 11, size=(4, 3))\n",
        "\n",
        "# Create the second array of random integers between 0 and 10, size (4, 3)\n",
        "array2 = np.random.randint(0, 11, size=(4, 3))\n",
        "\n",
        "# Transpose one of the arrays\n",
        "array2_transposed = array2.T\n",
        "\n",
        "# Perform the dot product\n",
        "dot_product_result = np.dot(array1, array2_transposed)\n",
        "\n",
        "# Display the result\n",
        "print(\"Dot Product Result:\")\n",
        "print(dot_product_result)"
      ]
    },
    {
      "cell_type": "markdown",
      "metadata": {
        "id": "WvBEOGHv3tCb"
      },
      "source": [
        "Notice how performing a transpose allows the dot product to happen.\n",
        "\n",
        "Why is this?\n",
        "\n",
        "Checking out the documentation on [`np.dot()`](https://docs.scipy.org/doc/numpy/reference/generated/numpy.dot.html) may help, as well as reading [Math is Fun's guide on the dot product](https://www.mathsisfun.com/algebra/vectors-dot-product.html).\n",
        "\n",
        "Let's now compare arrays."
      ]
    },
    {
      "cell_type": "code",
      "execution_count": 44,
      "metadata": {
        "colab": {
          "base_uri": "https://localhost:8080/"
        },
        "id": "J6KWCejo3tCb",
        "outputId": "10ffd0c7-3e81-4cd7-a1c8-930d21d3fdb7"
      },
      "outputs": [
        {
          "output_type": "stream",
          "name": "stdout",
          "text": [
            "Array 1 (4x3):\n",
            "[[ 2  9  7]\n",
            " [10  5  7]\n",
            " [ 8  3  0]\n",
            " [ 0  9  3]]\n",
            "\n",
            "Array 2 (4x3):\n",
            "[[ 6  1  2]\n",
            " [ 0  4  0]\n",
            " [ 7  0 10]\n",
            " [ 0  1  1]]\n"
          ]
        }
      ],
      "source": [
        "# Create two arrays of random integers between 0 & 10 of the same shape\n",
        "# and save them to variables\n",
        "# Create the first array of random integers between 0 and 10, size (4, 3)\n",
        "array1 = np.random.randint(0, 11, size=(4, 3))\n",
        "\n",
        "# Create the second array of random integers between 0 and 10, size (4, 3)\n",
        "array2 = np.random.randint(0, 11, size=(4, 3))\n",
        "\n",
        "# Display both arrays\n",
        "print(\"Array 1 (4x3):\")\n",
        "print(array1)\n",
        "\n",
        "print(\"\\nArray 2 (4x3):\")\n",
        "print(array2)"
      ]
    },
    {
      "cell_type": "code",
      "execution_count": 45,
      "metadata": {
        "colab": {
          "base_uri": "https://localhost:8080/"
        },
        "id": "F9vhzG1h3tCc",
        "outputId": "a9d14109-c103-4f29-ecc3-c48cf83d4cd8"
      },
      "outputs": [
        {
          "output_type": "stream",
          "name": "stdout",
          "text": [
            "Comparison Result (array1 > array2):\n",
            "[[False False False]\n",
            " [False False False]\n",
            " [False False  True]\n",
            " [ True  True False]]\n"
          ]
        }
      ],
      "source": [
        "# Compare the two arrays with '>'\n",
        "# Create the two arrays of random integers between 0 and 10, both size (4, 3)\n",
        "array1 = np.random.randint(0, 11, size=(4, 3))\n",
        "array2 = np.random.randint(0, 11, size=(4, 3))\n",
        "\n",
        "# Compare the two arrays element-wise with '>'\n",
        "comparison_result = array1 > array2\n",
        "\n",
        "# Display the comparison result\n",
        "print(\"Comparison Result (array1 > array2):\")\n",
        "print(comparison_result)"
      ]
    },
    {
      "cell_type": "markdown",
      "metadata": {
        "id": "qlWgZX4o3tCd"
      },
      "source": [
        "What happens when you compare the arrays with `>`?"
      ]
    },
    {
      "cell_type": "code",
      "execution_count": 46,
      "metadata": {
        "colab": {
          "base_uri": "https://localhost:8080/"
        },
        "id": "pV1R-8pr3tCd",
        "outputId": "5128df0e-0bab-4939-8023-fc8135660a56"
      },
      "outputs": [
        {
          "output_type": "stream",
          "name": "stdout",
          "text": [
            "Comparison Result (array1 >= array2):\n",
            "[[ True False  True]\n",
            " [ True False  True]\n",
            " [False  True  True]\n",
            " [False  True False]]\n"
          ]
        }
      ],
      "source": [
        "# Compare the two arrays with '>='\n",
        "# Create the two arrays of random integers between 0 and 10, both size (4, 3)\n",
        "array1 = np.random.randint(0, 11, size=(4, 3))\n",
        "array2 = np.random.randint(0, 11, size=(4, 3))\n",
        "\n",
        "# Compare the two arrays element-wise with '>='\n",
        "comparison_result = array1 >= array2\n",
        "\n",
        "# Display the comparison result\n",
        "print(\"Comparison Result (array1 >= array2):\")\n",
        "print(comparison_result)"
      ]
    },
    {
      "cell_type": "code",
      "execution_count": 47,
      "metadata": {
        "colab": {
          "base_uri": "https://localhost:8080/"
        },
        "id": "-YsCGHCk3tCe",
        "outputId": "0dfddfc4-3a09-4319-be76-bd99b81704f2"
      },
      "outputs": [
        {
          "output_type": "stream",
          "name": "stdout",
          "text": [
            "Elements in array1 greater than 7:\n",
            "[8 8 9 9 8]\n"
          ]
        }
      ],
      "source": [
        "# Find which elements of the first array are greater than 7\n",
        "# Create the first array of random integers between 0 and 10, size (4, 3)\n",
        "array1 = np.random.randint(0, 11, size=(4, 3))\n",
        "\n",
        "# Find elements greater than 7 in the first array\n",
        "condition = array1 > 7\n",
        "\n",
        "# Get the elements that satisfy the condition\n",
        "elements_greater_than_7 = array1[condition]\n",
        "\n",
        "# Display the elements greater than 7\n",
        "print(\"Elements in array1 greater than 7:\")\n",
        "print(elements_greater_than_7)"
      ]
    },
    {
      "cell_type": "code",
      "execution_count": 48,
      "metadata": {
        "colab": {
          "base_uri": "https://localhost:8080/"
        },
        "id": "OKey2j5i3tCf",
        "outputId": "96cba1a3-f681-417b-8c1f-e1d490b88de7"
      },
      "outputs": [
        {
          "output_type": "stream",
          "name": "stdout",
          "text": [
            "Equality Result (array1 == array2):\n",
            "[[False False False]\n",
            " [False False False]\n",
            " [False False False]\n",
            " [False False False]]\n"
          ]
        }
      ],
      "source": [
        "# Which parts of each array are equal? (try using '==')\n",
        "# Create the two arrays of random integers between 0 and 10, both size (4, 3)\n",
        "array1 = np.random.randint(0, 11, size=(4, 3))\n",
        "array2 = np.random.randint(0, 11, size=(4, 3))\n",
        "\n",
        "# Compare the two arrays element-wise with '=='\n",
        "equality_result = array1 == array2\n",
        "\n",
        "# Display the equality result\n",
        "print(\"Equality Result (array1 == array2):\")\n",
        "print(equality_result)"
      ]
    },
    {
      "cell_type": "code",
      "execution_count": 49,
      "metadata": {
        "colab": {
          "base_uri": "https://localhost:8080/"
        },
        "id": "bbYaEEwz3tCf",
        "outputId": "80bde7fa-2632-4fbe-f83c-65d65467045c"
      },
      "outputs": [
        {
          "output_type": "stream",
          "name": "stdout",
          "text": [
            "Sorted Array (Ascending Order):\n",
            "[[2 2 8]\n",
            " [1 1 8]\n",
            " [1 2 5]\n",
            " [0 3 8]]\n"
          ]
        }
      ],
      "source": [
        "# Sort one of the arrays you just created in ascending order\n",
        "# Create an array of random integers between 0 and 10, size (4, 3)\n",
        "array_to_sort = np.random.randint(0, 11, size=(4, 3))\n",
        "\n",
        "# Sort the array in ascending order\n",
        "sorted_array = np.sort(array_to_sort)\n",
        "\n",
        "# Display the sorted array\n",
        "print(\"Sorted Array (Ascending Order):\")\n",
        "print(sorted_array)"
      ]
    },
    {
      "cell_type": "code",
      "execution_count": 50,
      "metadata": {
        "colab": {
          "base_uri": "https://localhost:8080/"
        },
        "id": "NKvN2aO53tCg",
        "outputId": "4d702a45-e2e2-4ac0-e795-68ace2f9d369"
      },
      "outputs": [
        {
          "output_type": "stream",
          "name": "stdout",
          "text": [
            "Sorted Indexes:\n",
            "[ 1  8  9  7 11  0  3  2  6  4  5 10]\n"
          ]
        }
      ],
      "source": [
        "# Sort the indexes of one of the arrays you just created\n",
        "# Create an array of random integers between 0 and 10, size (4, 3)\n",
        "array_to_sort = np.random.randint(0, 11, size=(4, 3))\n",
        "\n",
        "# Get the sorted indexes\n",
        "sorted_indexes = np.argsort(array_to_sort, axis=None)\n",
        "\n",
        "# Display the sorted indexes\n",
        "print(\"Sorted Indexes:\")\n",
        "print(sorted_indexes)"
      ]
    },
    {
      "cell_type": "code",
      "execution_count": 51,
      "metadata": {
        "colab": {
          "base_uri": "https://localhost:8080/"
        },
        "id": "IVvpGHjL3tCh",
        "outputId": "afda5d51-ce33-4a7e-f576-35c4e4e08574"
      },
      "outputs": [
        {
          "output_type": "stream",
          "name": "stdout",
          "text": [
            "Maximum Value: 10\n",
            "Index with Maximum Value (Row, Column): (2, 2)\n"
          ]
        }
      ],
      "source": [
        "# Find the index with the maximum value in one of the arrays you've created\n",
        "# Create an array of random integers between 0 and 10, size (4, 3)\n",
        "array_to_find_max_index = np.random.randint(0, 11, size=(4, 3))\n",
        "\n",
        "# Find the index with the maximum value\n",
        "max_index = np.argmax(array_to_find_max_index)\n",
        "\n",
        "# Convert the flattened index to row and column indices\n",
        "row_index, col_index = np.unravel_index(max_index, array_to_find_max_index.shape)\n",
        "\n",
        "# Display the maximum value and its index\n",
        "print(\"Maximum Value:\", array_to_find_max_index[row_index, col_index])\n",
        "print(\"Index with Maximum Value (Row, Column):\", (row_index, col_index))"
      ]
    },
    {
      "cell_type": "code",
      "execution_count": 52,
      "metadata": {
        "colab": {
          "base_uri": "https://localhost:8080/"
        },
        "id": "_S9Q8FTo3tCi",
        "outputId": "7c157b2c-e30f-4bc2-e198-96bfa5c695e7"
      },
      "outputs": [
        {
          "output_type": "stream",
          "name": "stdout",
          "text": [
            "Minimum Value: 0\n",
            "Index with Minimum Value (Row, Column): (0, 0)\n"
          ]
        }
      ],
      "source": [
        "# Find the index with the minimum value in one of the arrays you've created\n",
        "# Create an array of random integers between 0 and 10, size (4, 3)\n",
        "array_to_find_min_index = np.random.randint(0, 11, size=(4, 3))\n",
        "\n",
        "# Find the index with the minimum value\n",
        "min_index = np.argmin(array_to_find_min_index)\n",
        "\n",
        "# Convert the flattened index to row and column indices\n",
        "row_index, col_index = np.unravel_index(min_index, array_to_find_min_index.shape)\n",
        "\n",
        "# Display the minimum value and its index\n",
        "print(\"Minimum Value:\", array_to_find_min_index[row_index, col_index])\n",
        "print(\"Index with Minimum Value (Row, Column):\", (row_index, col_index))"
      ]
    },
    {
      "cell_type": "code",
      "execution_count": 53,
      "metadata": {
        "colab": {
          "base_uri": "https://localhost:8080/"
        },
        "id": "80xJVhsg3tCi",
        "outputId": "796c3ad1-d7e1-468c-b1fe-e3e9d862f2bd"
      },
      "outputs": [
        {
          "output_type": "stream",
          "name": "stdout",
          "text": [
            "Indexes with Maximum Values along Axis 1:\n",
            "[1 0 2 1]\n"
          ]
        }
      ],
      "source": [
        "# Find the indexes with the maximum values down the 1st axis (axis=1)\n",
        "# of one of the arrays you created\n",
        "# Create an array of random integers between 0 and 10, size (4, 3)\n",
        "array_to_find_max_indexes = np.random.randint(0, 11, size=(4, 3))\n",
        "\n",
        "# Find the indexes with the maximum values along axis 1\n",
        "max_indexes_axis_1 = np.argmax(array_to_find_max_indexes, axis=1)\n",
        "\n",
        "# Display the indexes with the maximum values along axis 1\n",
        "print(\"Indexes with Maximum Values along Axis 1:\")\n",
        "print(max_indexes_axis_1)"
      ]
    },
    {
      "cell_type": "code",
      "execution_count": 54,
      "metadata": {
        "colab": {
          "base_uri": "https://localhost:8080/"
        },
        "id": "wk4Wq3Fk3tCk",
        "outputId": "47bb8484-a2c0-4f48-edb1-4fa5a2857de4"
      },
      "outputs": [
        {
          "output_type": "stream",
          "name": "stdout",
          "text": [
            "Indexes with Minimum Values along Axis 0:\n",
            "[3 2 0]\n"
          ]
        }
      ],
      "source": [
        "# Find the indexes with the minimum values across the 0th axis (axis=0)\n",
        "# of one of the arrays you created\n",
        "# Create an array of random integers between 0 and 10, size (4, 3)\n",
        "array_to_find_min_indexes = np.random.randint(0, 11, size=(4, 3))\n",
        "\n",
        "# Find the indexes with the minimum values along axis 0\n",
        "min_indexes_axis_0 = np.argmin(array_to_find_min_indexes, axis=0)\n",
        "\n",
        "# Display the indexes with the minimum values along axis 0\n",
        "print(\"Indexes with Minimum Values along Axis 0:\")\n",
        "print(min_indexes_axis_0)"
      ]
    },
    {
      "cell_type": "code",
      "execution_count": 55,
      "metadata": {
        "colab": {
          "base_uri": "https://localhost:8080/"
        },
        "id": "T-YBdzub3tCl",
        "outputId": "484a64e7-f41b-44a8-8089-db9e3fc8c619"
      },
      "outputs": [
        {
          "output_type": "stream",
          "name": "stdout",
          "text": [
            "Array of Normally Distributed Random Numbers:\n",
            "[[-1.02549987 -1.18303961  0.44977404]\n",
            " [ 1.77892434 -0.66694337 -1.69181826]\n",
            " [ 0.65679733 -1.43590082 -1.18326562]\n",
            " [ 0.49499565 -0.16530961 -0.68717518]]\n"
          ]
        }
      ],
      "source": [
        "# Create an array of normally distributed random numbers\n",
        "# Create an array of normally distributed random numbers\n",
        "mean = 0  # Mean of the distribution\n",
        "std_dev = 1  # Standard deviation of the distribution\n",
        "size = (4, 3)  # Size of the array\n",
        "\n",
        "# Generate the array of random numbers\n",
        "normal_distribution_array = np.random.normal(mean, std_dev, size)\n",
        "\n",
        "# Display the array\n",
        "print(\"Array of Normally Distributed Random Numbers:\")\n",
        "print(normal_distribution_array)"
      ]
    },
    {
      "cell_type": "code",
      "execution_count": 56,
      "metadata": {
        "colab": {
          "base_uri": "https://localhost:8080/"
        },
        "id": "yAH-nLwb3tCn",
        "outputId": "af63043a-fc16-4bcc-8aee-afa110c57c62"
      },
      "outputs": [
        {
          "output_type": "stream",
          "name": "stdout",
          "text": [
            "Array with 10 Evenly Spaced Numbers between 1 and 100:\n",
            "[  1.  12.  23.  34.  45.  56.  67.  78.  89. 100.]\n"
          ]
        }
      ],
      "source": [
        "# Create an array with 10 evenly spaced numbers between 1 and 100\n",
        "\n",
        "evenly_spaced_array = np.linspace(1, 100, 10)\n",
        "\n",
        "# Display the array\n",
        "print(\"Array with 10 Evenly Spaced Numbers between 1 and 100:\")\n",
        "print(evenly_spaced_array)\n"
      ]
    },
    {
      "cell_type": "markdown",
      "metadata": {
        "id": "c-klMFAW3tCo"
      },
      "source": [
        "## Extensions\n",
        "\n",
        "For more exercises, check out the [NumPy quickstart tutorial](https://numpy.org/doc/stable/user/quickstart.html). A good practice would be to read through it and for the parts you find interesting, add them into the end of this notebook.\n",
        "\n",
        "Pay particular attention to the section on broadcasting. And most importantly, get hands-on with the code as much as possible. If in dobut, run the code, see what it does.\n",
        "\n",
        "The next place you could go is the [Stack Overflow page for the top questions and answers for NumPy](https://stackoverflow.com/questions/tagged/numpy?sort=MostVotes&edited=true). Often, you'll find some of the most common and useful NumPy functions here. Don't forget to play around with the filters! You'll likely find something helpful here.\n",
        "\n",
        "Finally, as always, remember, the best way to learn something new is to try it. And try it relentlessly. If you get interested in some kind of NumPy function, asking yourself, \"I wonder if NumPy could do that?\", go and find out."
      ]
    }
  ],
  "metadata": {
    "kernelspec": {
      "display_name": "Python 3",
      "language": "python",
      "name": "python3"
    },
    "language_info": {
      "codemirror_mode": {
        "name": "ipython",
        "version": 3
      },
      "file_extension": ".py",
      "mimetype": "text/x-python",
      "name": "python",
      "nbconvert_exporter": "python",
      "pygments_lexer": "ipython3",
      "version": "3.8.3"
    },
    "colab": {
      "provenance": []
    }
  },
  "nbformat": 4,
  "nbformat_minor": 0
}